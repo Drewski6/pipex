{
 "cells": [
  {
   "attachments": {},
   "cell_type": "markdown",
   "metadata": {},
   "source": [
    "# PIPEX"
   ]
  },
  {
   "attachments": {},
   "cell_type": "markdown",
   "metadata": {},
   "source": [
    "## Makefile"
   ]
  },
  {
   "cell_type": "code",
   "execution_count": 13,
   "metadata": {},
   "outputs": [
    {
     "name": "stdout",
     "output_type": "stream",
     "text": [
      "Overwriting ../pipex_working/Makefile\n"
     ]
    }
   ],
   "source": [
    "%%file ../pipex_working/Makefile\n",
    "# **************************************************************************** #\n",
    "#                                                                              #\n",
    "#                                                         :::      ::::::::    #\n",
    "#    Makefile                                           :+:      :+:    :+:    #\n",
    "#                                                     +:+ +:+         +:+      #\n",
    "#    By: dpentlan <dpentlan@student.42.fr>          +#+  +:+       +#+         #\n",
    "#                                                 +#+#+#+#+#+   +#+            #\n",
    "#    Created: 2023/01/30 14:27:11 by dpentlan          #+#    #+#              #\n",
    "#    Updated: 2023/04/29 12:19:40 by dpentlan         ###   ########.fr        #\n",
    "#                                                                              #\n",
    "# **************************************************************************** #\n",
    "\n",
    "NAME = pipex\n",
    "RED='\\033[0;31m'\n",
    "GREEN='\\033[0;32m'\n",
    "NOCOLOR='\\033[0m'\n",
    "\n",
    "# ***** Sources *****\n",
    "\n",
    "SRCS = pipex.c \\\n",
    "\tpipex_utils_1.c \\\n",
    "\n",
    "SRCS_DIR = srcs/\n",
    "\n",
    "# ***** Includes *****\n",
    "\n",
    "INCS = pipex.h\n",
    "\n",
    "INCS_DIR = includes/\n",
    "\n",
    "# ***** Objects *****\n",
    "\n",
    "OBJS = $(patsubst %.c,$(OBJS_DIR)%.o,$(SRCS))\n",
    "\n",
    "OBJS_DIR = objs/\n",
    "\n",
    "# ***** Compile and Archiver *****\n",
    "\n",
    "CFLAGS = -Wall -Wextra -Werror -g\n",
    "\n",
    "CC = cc\n",
    "\n",
    "LIBFT = -Llibft -lft\n",
    "\n",
    "# ***** Build *****\n",
    "\n",
    "all: $(NAME)\n",
    "\n",
    "bonus: $(BONUS)\n",
    "\n",
    "$(NAME): $(OBJS) $(OBJS_MAN)\n",
    "\t@echo -e -n ${GREEN}\n",
    "\t@make -C libft --silent\n",
    "\t@echo -e ===== MAKING PIPEX =====\n",
    "\t@echo -e -n ${NOCOLOR}\n",
    "\t@$(CC) $(CFLAGS) $(OBJS) $(LIBFT) -o $(NAME)\n",
    "\n",
    "$(OBJS_DIR)%.o: $(SRCS_DIR)%.c\n",
    "\t@mkdir -p $(OBJS_DIR)\n",
    "\t@$(CC) -c $(CFLAGS) -I$(INCS_DIR) $< -o $@\n",
    "\n",
    "clean:\n",
    "\t@make -C libft clean --silent\n",
    "\t@rm -f $(OBJS)\n",
    "\t@rm -rf $(OBJS_DIR)\n",
    "\n",
    "fclean: clean\n",
    "\t@make -C libft fclean --silent\n",
    "\t@rm -f $(NAME)\n",
    "\t@rm -f gdb.txt\n",
    "\n",
    "re: fclean all\n"
   ]
  },
  {
   "attachments": {},
   "cell_type": "markdown",
   "metadata": {},
   "source": [
    "## HEADERS"
   ]
  },
  {
   "cell_type": "code",
   "execution_count": 163,
   "metadata": {},
   "outputs": [
    {
     "name": "stdout",
     "output_type": "stream",
     "text": [
      "Overwriting ../pipex_working/includes/pipex.h\n"
     ]
    }
   ],
   "source": [
    "%%file ../pipex_working/includes/pipex.h\n",
    "/* ************************************************************************** */\n",
    "/*                                                                            */\n",
    "/*                                                        :::      ::::::::   */\n",
    "/*   pipex.h                                            :+:      :+:    :+:   */\n",
    "/*                                                    +:+ +:+         +:+     */\n",
    "/*   By: dpentlan <dpentlan@student.42.fr>          +#+  +:+       +#+        */\n",
    "/*                                                +#+#+#+#+#+   +#+           */\n",
    "/*   Created: 2023/04/20 12:57:04 by dpentlan          #+#    #+#             */\n",
    "/*   Updated: 2023/04/20 12:57:37 by dpentlan         ###   ########.fr       */\n",
    "/*                                                                            */\n",
    "/* ************************************************************************** */\n",
    "\n",
    "#ifndef PIPEX_H\n",
    "# define PIPEX_H\n",
    "\n",
    "# include \"../libft/includes/libft.h\"\n",
    "# include <unistd.h>\n",
    "# include <sys/wait.h>\n",
    "# include <error.h>\n",
    "\n",
    "typedef struct\ts_pipex {\n",
    "\tint \t\tfds[2];\n",
    "\tpid_t\t\tpid1;\n",
    "\tpid_t\t\tpid2;\n",
    "}\t\t\t\tt_pipex;\n",
    "\n",
    "//\tpipex.c\n",
    "//\tint main (int argc, char **argv, char **envp);\n",
    "\n",
    "//\tpipex_utils_1.c\n",
    "int\t\tpx_error(void);\n",
    "void\tft_free_tab(char **table);\n",
    "char\t*px_env_check(int com, char **argv, char **envp);\n",
    "int\t\tpx_access_check(int argc, char **argv, char **envp);\n",
    "\n",
    "\n",
    "#endif\n"
   ]
  },
  {
   "attachments": {},
   "cell_type": "markdown",
   "metadata": {},
   "source": [
    "## SOURCES"
   ]
  },
  {
   "attachments": {},
   "cell_type": "markdown",
   "metadata": {},
   "source": [
    "### pipex.c"
   ]
  },
  {
   "cell_type": "code",
   "execution_count": 171,
   "metadata": {},
   "outputs": [
    {
     "name": "stdout",
     "output_type": "stream",
     "text": [
      "Overwriting ../pipex_working/srcs/pipex.c\n"
     ]
    }
   ],
   "source": [
    "%%file ../pipex_working/srcs/pipex.c\n",
    "/* ************************************************************************** */\n",
    "/*                                                                            */\n",
    "/*                                                        :::      ::::::::   */\n",
    "/*   pipex.c                                            :+:      :+:    :+:   */\n",
    "/*                                                    +:+ +:+         +:+     */\n",
    "/*   By: dpentlan <dpentlan@student.42.fr>          +#+  +:+       +#+        */\n",
    "/*                                                +#+#+#+#+#+   +#+           */\n",
    "/*   Created: 2023/04/20 12:56:25 by dpentlan          #+#    #+#             */\n",
    "/*   Updated: 2023/04/29 16:03:05 by dpentlan         ###   ########.fr       */\n",
    "/*                                                                            */\n",
    "/* ************************************************************************** */\n",
    "\n",
    "#include \"pipex.h\"\n",
    "\n",
    "int\tmain(int argc, char **argv, char **envp)\n",
    "{\n",
    "\tt_pipex\t*pipex;\n",
    "\tint\t\topened_file;\n",
    "\n",
    "\tif (envp) {}\n",
    "\topened_file = 0;\n",
    "\tif (argc < 5)\n",
    "\t\treturn (px_error(), 1);\n",
    "\tpipex = (t_pipex *)malloc(1 * sizeof(t_pipex));\n",
    "\tif (!pipex)\n",
    "\t\treturn (1);\n",
    "\tif (pipe(pipex->fds))\n",
    "\t\treturn (free(pipex), 1);\n",
    "\n",
    "\t// Not how youre supposed to do this.\n",
    "\t//if (px_access_check(argc, argv, envp))\n",
    "\t//\treturn (1);\n",
    "\n",
    "\t// need to put file into stdin at first. access and all that to error check.\n",
    "\topened_file = open(argv[1], O_RDONLY);\n",
    "\tdup2(opened_file, STDIN_FILENO);\n",
    "\tclose(opened_file);\n",
    "\n",
    "\tpipex->pid1 = fork();\n",
    "\tif (pipex->pid1 == 0)\n",
    "\t{\n",
    "\t\tchar *args[] = {\"/usr/bin/ping\", \"ping\", \"-c\", \"1\", \"google.com\", NULL};\n",
    "\t\tft_printf(\"checking %s: result %d\\n\", args[0], access(args[0], F_OK | X_OK));\n",
    "\t\tdup2(pipex->fds[1], STDOUT_FILENO);\n",
    "\t\tclose(pipex->fds[0]);\n",
    "\t\tclose(pipex->fds[1]);\n",
    "\t\texecve(args[0], args + 1, NULL);\n",
    "\t}\n",
    "\tpipex->pid2 = fork();\n",
    "\tif (pipex->pid2 == 0)\n",
    "\t{\n",
    "\t\tchar *args[] = {\"/usr/bin/grep\", \"grep\", \"rtt\", NULL};\n",
    "\t\tft_printf(\"checking %s: result %d\\n\", args[0], access(args[0], F_OK | X_OK));\n",
    "\t\tdup2(pipex->fds[0], STDIN_FILENO);\n",
    "\t\tdup2(pipex->fds[1], STDOUT_FILENO);\n",
    "\t\tclose(pipex->fds[0]);\n",
    "\t\tclose(pipex->fds[1]);\n",
    "\t\texecve(args[0], args + 1, NULL);\n",
    "\t}\n",
    "\n",
    "\tclose(pipex->fds[0]);\n",
    "\tclose(pipex->fds[1]);\n",
    "\twaitpid(pipex->pid1, NULL, 0);\n",
    "\twaitpid(pipex->pid2, NULL, 0);\n",
    "\tfree(pipex);\n",
    "\treturn (0);\n",
    "}\n"
   ]
  },
  {
   "cell_type": "markdown",
   "metadata": {},
   "source": [
    "### pipex_utils_1.c"
   ]
  },
  {
   "cell_type": "code",
   "execution_count": 155,
   "metadata": {},
   "outputs": [
    {
     "name": "stdout",
     "output_type": "stream",
     "text": [
      "Overwriting ../pipex_working/srcs/pipex_utils_1.c\n"
     ]
    }
   ],
   "source": [
    "%%file ../pipex_working/srcs/pipex_utils_1.c\n",
    "/* ************************************************************************** */\n",
    "/*                                                                            */\n",
    "/*                                                        :::      ::::::::   */\n",
    "/*   pipex_utils_1.c                                    :+:      :+:    :+:   */\n",
    "/*                                                    +:+ +:+         +:+     */\n",
    "/*   By: dpentlan <dpentlan@student.42.fr>          +#+  +:+       +#+        */\n",
    "/*                                                +#+#+#+#+#+   +#+           */\n",
    "/*   Created: 2023/04/29 17:20:54 by dpentlan          #+#    #+#             */\n",
    "/*   Updated: 2023/05/09 15:31:54 by dpentlan         ###   ########.fr       */\n",
    "/*                                                                            */\n",
    "/* ************************************************************************** */\n",
    "\n",
    "#include \"pipex.h\"\n",
    "\n",
    "int\tpx_error(void)\n",
    "{\n",
    "\twrite(1, \"ERROR\\n\", 6);\n",
    "\treturn (0);\n",
    "}\n",
    "\n",
    "void\tft_free_tab(char **table)\n",
    "{\n",
    "\tint\ti;\n",
    "\n",
    "\ti = 0;\n",
    "\twhile (table[i])\n",
    "\t{\n",
    "\t\tfree(table[i]);\n",
    "\t\ti++;\n",
    "\t}\n",
    "\tfree(table);\n",
    "\treturn ;\n",
    "}\n",
    "\n",
    "char\t*px_get_path(char **envp)\n",
    "{\n",
    "\tchar\t*path;\n",
    "\n",
    "\tpath = 0;\n",
    "\twhile (*envp)\n",
    "\t{\n",
    "\t\tpath = ft_strnstr(*envp, \"PATH=\", 5);\n",
    "\t\tif (path)\n",
    "\t\t\treturn (path);\n",
    "\t\tenvp++;\n",
    "\t}\n",
    "\treturn (0);\n",
    "}\n",
    "\n",
    "char\t*px_add_abs_path(char *command, char **envp)\n",
    "{\n",
    "\tchar\t**path_tab;\n",
    "\tchar\t**path_tab_start;\n",
    "\tchar\t*path;\n",
    "\tchar\t*full_path;\n",
    "\tchar\t*fuller_path;\n",
    "\n",
    "\tfull_path = 0;\n",
    "\tfuller_path = 0;\n",
    "\tpath = 0;\n",
    "\tpath_tab = 0;\n",
    "\tpath = px_get_path(envp);\n",
    "\tif (!path)\n",
    "\t\treturn (0);\n",
    "\tpath = path + 5;\n",
    "\tpath_tab = ft_split(path, ':');\n",
    "\tif (!path_tab)\n",
    "\t\treturn (0);\n",
    "\tpath_tab_start = path_tab;\n",
    "\twhile (*path_tab)\n",
    "\t{\n",
    "\t\tfull_path = ft_strjoin(*path_tab, \"/\");\n",
    "\t\tif (!full_path)\n",
    "\t\t{\n",
    "\t\t\tft_free_tab(path_tab_start);\n",
    "\t\t\treturn (0);\n",
    "\t\t}\n",
    "\t\tfuller_path = ft_strjoin(full_path, command);\n",
    "\t\tfree(full_path);\n",
    "\t\t//ft_printf(\"fuller_path = %s\\n\", fuller_path);\n",
    "\t\tif (!fuller_path)\n",
    "\t\t{\n",
    "\t\t\tft_free_tab(path_tab_start);\n",
    "\t\t\treturn (0);\n",
    "\t\t}\n",
    "\t\tif (!access(fuller_path, F_OK | X_OK))\n",
    "\t\t{\n",
    "\t\t\tft_free_tab(path_tab_start);\n",
    "\t\t\treturn (fuller_path);\n",
    "\t\t}\n",
    "\t\tfree(fuller_path);\n",
    "\t\tpath_tab++;\n",
    "\t}\n",
    "\tft_free_tab(path_tab_start);\n",
    "\t//ft_printf(\"bruhhhh.\\n\");\n",
    "\treturn (0);\n",
    "}\n",
    "\n",
    "char\t*px_env_check(int com, char **argv, char **envp)\n",
    "{\n",
    "\tchar\t**buf_table;\n",
    "\tchar\t*full_path;\n",
    "\n",
    "\tfull_path = 0;\n",
    "\tbuf_table = ft_split(argv[com], ' ');\n",
    "\tif (!buf_table || !buf_table[0])\n",
    "\t\treturn (0);\n",
    "\t//ft_printf(\"%s\\n\", buf_table[0]);\n",
    "\tif (buf_table[0][0] != '/')\n",
    "\t\tfull_path = px_add_abs_path(buf_table[0], envp);\n",
    "\tft_free_tab(buf_table);\n",
    "\treturn (full_path);\n",
    "}\n",
    "\n",
    "int\tpx_access_check(int argc, char **argv, char **envp)\n",
    "{\n",
    "\tint\t\ti;\n",
    "\tchar\t*full_path;\n",
    "\n",
    "\ti = 2;\n",
    "\tif (access(argv[1], F_OK | W_OK))\n",
    "\t\treturn (-1);\n",
    "\tif (access(argv[argc - 1], F_OK | W_OK))\n",
    "\t\treturn (-1);\n",
    "\twhile (i < argc - 1)\n",
    "\t{\n",
    "\t\tfull_path = px_env_check(i, argv, envp);\n",
    "\t\tif (!full_path)\n",
    "\t\t{\n",
    "\t\t\tfree(full_path);\n",
    "\t\t\treturn (-1);\n",
    "\t\t}\n",
    "\t\tfree(full_path);\n",
    "\t\ti++;\n",
    "\t}\n",
    "\treturn (0);\n",
    "}\n",
    "\n"
   ]
  },
  {
   "attachments": {},
   "cell_type": "markdown",
   "metadata": {},
   "source": [
    "## TESTING"
   ]
  },
  {
   "attachments": {},
   "cell_type": "markdown",
   "metadata": {},
   "source": [
    "### Test Build"
   ]
  },
  {
   "cell_type": "code",
   "execution_count": 2,
   "metadata": {},
   "outputs": [
    {
     "name": "stdout",
     "output_type": "stream",
     "text": [
      "\u001b[0;32m===== MAKING LIBFT =====\n",
      "===== MAKING PIPEX =====\n",
      "\u001b[0m"
     ]
    }
   ],
   "source": [
    "%%bash\n",
    "cd ../pipex_working\n",
    "make re"
   ]
  },
  {
   "cell_type": "code",
   "execution_count": 34,
   "metadata": {},
   "outputs": [
    {
     "name": "stdout",
     "output_type": "stream",
     "text": [
      "access@GLIBC_2.2.5\n",
      "close@GLIBC_2.2.5\n",
      "dup2@GLIBC_2.2.5\n",
      "execve@GLIBC_2.2.5\n",
      "fork@GLIBC_2.2.5\n",
      "free@GLIBC_2.2.5\n",
      "malloc@GLIBC_2.2.5\n",
      "pipe@GLIBC_2.2.5\n",
      "waitpid@GLIBC_2.2.5\n",
      "write@GLIBC_2.2.5\n"
     ]
    }
   ],
   "source": [
    "%%bash\n",
    "cd ../pipex_working\n",
    "make re > /dev/null\n",
    "./pipex > /dev/null\n",
    "nm -Duj pipex | grep -v \"^_\"\n",
    "make fclean"
   ]
  },
  {
   "cell_type": "code",
   "execution_count": 2,
   "metadata": {},
   "outputs": [
    {
     "name": "stderr",
     "output_type": "stream",
     "text": [
      "==86224== Memcheck, a memory error detector\n",
      "==86224== Copyright (C) 2002-2017, and GNU GPL'd, by Julian Seward et al.\n",
      "==86224== Using Valgrind-3.18.1 and LibVEX; rerun with -h for copyright info\n",
      "==86224== Command: cat\n",
      "==86224== \n",
      "==86224== \n",
      "==86224== FILE DESCRIPTORS: 0 open (0 std) at exit.\n",
      "==86224== \n",
      "==86224== HEAP SUMMARY:\n",
      "==86224==     in use at exit: 0 bytes in 0 blocks\n",
      "==86224==   total heap usage: 1,051 allocs, 1,051 frees, 205,320 bytes allocated\n",
      "==86224== \n",
      "==86224== All heap blocks were freed -- no leaks are possible\n",
      "==86224== \n",
      "==86224== For lists of detected and suppressed errors, rerun with: -s\n",
      "==86224== ERROR SUMMARY: 0 errors from 0 contexts (suppressed: 0 from 0)\n"
     ]
    }
   ],
   "source": [
    "%%bash\n",
    "# use valgrind with --track-fds=all to see if fds are closing appropriately\n",
    "valgrind --track-fds=all < file1 cat | wc > file2"
   ]
  },
  {
   "cell_type": "code",
   "execution_count": null,
   "metadata": {},
   "outputs": [],
   "source": []
  }
 ],
 "metadata": {
  "kernelspec": {
   "display_name": "base",
   "language": "python",
   "name": "python3"
  },
  "language_info": {
   "codemirror_mode": {
    "name": "ipython",
    "version": 3
   },
   "file_extension": ".py",
   "mimetype": "text/x-python",
   "name": "python",
   "nbconvert_exporter": "python",
   "pygments_lexer": "ipython3",
   "version": "3.10.11"
  },
  "orig_nbformat": 4
 },
 "nbformat": 4,
 "nbformat_minor": 2
}
