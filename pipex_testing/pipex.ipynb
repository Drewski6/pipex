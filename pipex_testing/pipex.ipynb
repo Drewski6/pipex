{
 "cells": [
  {
   "attachments": {},
   "cell_type": "markdown",
   "metadata": {},
   "source": [
    "# PIPEX"
   ]
  },
  {
   "attachments": {},
   "cell_type": "markdown",
   "metadata": {},
   "source": [
    "## Makefile"
   ]
  },
  {
   "cell_type": "code",
   "execution_count": 21,
   "metadata": {},
   "outputs": [
    {
     "name": "stdout",
     "output_type": "stream",
     "text": [
      "Overwriting ../pipex_working/Makefile\n"
     ]
    }
   ],
   "source": [
    "%%file ../pipex_working/Makefile\n",
    "# **************************************************************************** #\n",
    "#                                                                              #\n",
    "#                                                         :::      ::::::::    #\n",
    "#    Makefile                                           :+:      :+:    :+:    #\n",
    "#                                                     +:+ +:+         +:+      #\n",
    "#    By: dpentlan <dpentlan@student.42.fr>          +#+  +:+       +#+         #\n",
    "#                                                 +#+#+#+#+#+   +#+            #\n",
    "#    Created: 2023/01/30 14:27:11 by dpentlan          #+#    #+#              #\n",
    "#    Updated: 2023/01/30 14:27:14 by dpentlan         ###   ########.fr        #\n",
    "#                                                                              #\n",
    "# **************************************************************************** #\n",
    "\n",
    "NAME = pipex\n",
    "\n",
    "# ***** Sources *****\n",
    "\n",
    "SRCS = pipex.c \\\n",
    "\n",
    "SRCS_DIR = srcs/\n",
    "\n",
    "# ***** Includes *****\n",
    "\n",
    "INCS = pipex.h\n",
    "\n",
    "INCS_DIR = includes/\n",
    "\n",
    "# ***** Objects *****\n",
    "\n",
    "OBJS = $(patsubst %.c,$(OBJS_DIR)%.o,$(SRCS))\n",
    "\n",
    "OBJS_DIR = objs/\n",
    "\n",
    "# ***** Compile and Archiver *****\n",
    "\n",
    "CFLAGS = -Wall -Wextra -Werror -g\n",
    "\n",
    "CC = cc\n",
    "\n",
    "LIBFT = -Llibft -lft\n",
    "\n",
    "# ***** Build *****\n",
    "\n",
    "all: $(NAME)\n",
    "\n",
    "bonus: $(BONUS)\n",
    "\n",
    "$(NAME): $(OBJS) $(OBJS_MAN)\n",
    "\tmake -C libft\n",
    "\t$(CC) $(CFLAGS) $(OBJS) $(LIBFT) -o $(NAME)\n",
    "\n",
    "$(OBJS_DIR)%.o: $(SRCS_DIR)%.c\n",
    "\t@mkdir -p $(OBJS_DIR)\n",
    "\t$(CC) -c $(CFLAGS) -I$(INCS_DIR) $< -o $@\n",
    "\n",
    "clean:\n",
    "\t@make -C libft clean --silent\n",
    "\t@rm -f $(OBJS)\n",
    "\t@rm -rf $(OBJS_DIR)\n",
    "\n",
    "fclean:\tclean\n",
    "\t@make -C libft fclean --silent\n",
    "\t@rm -f $(NAME)\n",
    "\t@rm -f gdb.txt\n",
    "\n",
    "re:\tfclean all\n"
   ]
  },
  {
   "attachments": {},
   "cell_type": "markdown",
   "metadata": {},
   "source": [
    "## HEADERS"
   ]
  },
  {
   "cell_type": "code",
   "execution_count": 45,
   "metadata": {},
   "outputs": [
    {
     "name": "stdout",
     "output_type": "stream",
     "text": [
      "Overwriting ../pipex_working/includes/pipex.h\n"
     ]
    }
   ],
   "source": [
    "%%file ../pipex_working/includes/pipex.h\n",
    "/* ************************************************************************** */\n",
    "/*                                                                            */\n",
    "/*                                                        :::      ::::::::   */\n",
    "/*   pipex.h                                            :+:      :+:    :+:   */\n",
    "/*                                                    +:+ +:+         +:+     */\n",
    "/*   By: dpentlan <dpentlan@student.42.fr>          +#+  +:+       +#+        */\n",
    "/*                                                +#+#+#+#+#+   +#+           */\n",
    "/*   Created: 2023/04/20 12:57:04 by dpentlan          #+#    #+#             */\n",
    "/*   Updated: 2023/04/20 12:57:37 by dpentlan         ###   ########.fr       */\n",
    "/*                                                                            */\n",
    "/* ************************************************************************** */\n",
    "\n",
    "#ifndef PIPEX_H\n",
    "# define PIPEX_H\n",
    "\n",
    "# include \"../libft/includes/libft.h\"\n",
    "# include <unistd.h>\n",
    "# include <sys/wait.h>\n",
    "\n",
    "#endif\n"
   ]
  },
  {
   "attachments": {},
   "cell_type": "markdown",
   "metadata": {},
   "source": [
    "## SOURCES"
   ]
  },
  {
   "cell_type": "code",
   "execution_count": 1,
   "metadata": {},
   "outputs": [
    {
     "name": "stdout",
     "output_type": "stream",
     "text": [
      "Overwriting ../pipex_working/srcs/pipex.c\n"
     ]
    }
   ],
   "source": [
    "%%file ../pipex_working/srcs/pipex.c\n",
    "/* ************************************************************************** */\n",
    "/*                                                                            */\n",
    "/*                                                        :::      ::::::::   */\n",
    "/*   pipex.c                                            :+:      :+:    :+:   */\n",
    "/*                                                    +:+ +:+         +:+     */\n",
    "/*   By: dpentlan <dpentlan@student.42.fr>          +#+  +:+       +#+        */\n",
    "/*                                                +#+#+#+#+#+   +#+           */\n",
    "/*   Created: 2023/04/20 12:56:25 by dpentlan          #+#    #+#             */\n",
    "/*   Updated: 2023/04/20 12:56:37 by dpentlan         ###   ########.fr       */\n",
    "/*                                                                            */\n",
    "/* ************************************************************************** */\n",
    "\n",
    "#include \"pipex.h\"\n",
    "\n",
    "int\tmain(int argc, char **argv, char **envp)\n",
    "{\n",
    "\tpid_t\tpid;\n",
    "\tint\t\tret;\n",
    "\n",
    "\tif (argc) {}\n",
    "\tif (argv) {}\n",
    "\tif (envp) {}\n",
    "\n",
    "\tret = 1;\n",
    "\tpid = fork();\n",
    "\tft_printf(\"pid = %d\\n\", pid);\n",
    "\n",
    "\tif (pid != 0)\n",
    "\t{\n",
    "\t\tft_printf(\"waiting: %d\\n\", pid);\n",
    "\t\twait(NULL);\n",
    "\t\tif (ret < 0)\n",
    "\t\t\treturn (1);\n",
    "\t\tft_printf(\"waiting over: %d\\n\", pid);\n",
    "\t}\n",
    "\t\n",
    "\tif (pid == 0)\n",
    "\t\tft_printf(\"Hey! I'm the child! %d\\n\", pid);\n",
    "\tif (pid != 0)\n",
    "\t\tft_printf(\"Hey! I'm the parent! %d\\n\", pid);\n",
    "\n",
    "\treturn (0);\n",
    "}\n"
   ]
  },
  {
   "attachments": {},
   "cell_type": "markdown",
   "metadata": {},
   "source": [
    "## TESTING"
   ]
  },
  {
   "attachments": {},
   "cell_type": "markdown",
   "metadata": {},
   "source": [
    "### Test Build"
   ]
  },
  {
   "cell_type": "code",
   "execution_count": 2,
   "metadata": {},
   "outputs": [
    {
     "name": "stdout",
     "output_type": "stream",
     "text": [
      "pid = 46320\n",
      "waiting: 46320\n",
      "pid = 0\n",
      "Hey! I'm the child! 0\n",
      "waiting over: 46320\n",
      "Hey! I'm the parent! 46320\n",
      "                 w __cxa_finalize@GLIBC_2.2.5\n",
      "                 U fork@GLIBC_2.2.5\n",
      "                 U free@GLIBC_2.2.5\n",
      "                 w __gmon_start__\n",
      "                 w _ITM_deregisterTMCloneTable\n",
      "                 w _ITM_registerTMCloneTable\n",
      "                 U __libc_start_main@GLIBC_2.34\n",
      "                 U malloc@GLIBC_2.2.5\n",
      "                 U __stack_chk_fail@GLIBC_2.4\n",
      "                 U wait@GLIBC_2.2.5\n",
      "                 U write@GLIBC_2.2.5\n"
     ]
    }
   ],
   "source": [
    "%%bash\n",
    "cd ../pipex_working\n",
    "make re > /dev/null\n",
    "./pipex\n",
    "nm -Du pipex\n",
    "make fclean"
   ]
  },
  {
   "cell_type": "code",
   "execution_count": 2,
   "metadata": {},
   "outputs": [
    {
     "name": "stderr",
     "output_type": "stream",
     "text": [
      "==86224== Memcheck, a memory error detector\n",
      "==86224== Copyright (C) 2002-2017, and GNU GPL'd, by Julian Seward et al.\n",
      "==86224== Using Valgrind-3.18.1 and LibVEX; rerun with -h for copyright info\n",
      "==86224== Command: cat\n",
      "==86224== \n",
      "==86224== \n",
      "==86224== FILE DESCRIPTORS: 0 open (0 std) at exit.\n",
      "==86224== \n",
      "==86224== HEAP SUMMARY:\n",
      "==86224==     in use at exit: 0 bytes in 0 blocks\n",
      "==86224==   total heap usage: 1,051 allocs, 1,051 frees, 205,320 bytes allocated\n",
      "==86224== \n",
      "==86224== All heap blocks were freed -- no leaks are possible\n",
      "==86224== \n",
      "==86224== For lists of detected and suppressed errors, rerun with: -s\n",
      "==86224== ERROR SUMMARY: 0 errors from 0 contexts (suppressed: 0 from 0)\n"
     ]
    }
   ],
   "source": [
    "%%bash\n",
    "# use valgrind with --track-fds=all to see if fds are closing appropriately\n",
    "valgrind --track-fds=all < file1 cat | wc > file2"
   ]
  },
  {
   "cell_type": "code",
   "execution_count": null,
   "metadata": {},
   "outputs": [],
   "source": []
  }
 ],
 "metadata": {
  "kernelspec": {
   "display_name": "base",
   "language": "python",
   "name": "python3"
  },
  "language_info": {
   "codemirror_mode": {
    "name": "ipython",
    "version": 3
   },
   "file_extension": ".py",
   "mimetype": "text/x-python",
   "name": "python",
   "nbconvert_exporter": "python",
   "pygments_lexer": "ipython3",
   "version": "3.9.13"
  },
  "orig_nbformat": 4
 },
 "nbformat": 4,
 "nbformat_minor": 2
}
