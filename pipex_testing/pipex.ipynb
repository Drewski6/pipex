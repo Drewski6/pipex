{
 "cells": [
  {
   "attachments": {},
   "cell_type": "markdown",
   "metadata": {},
   "source": [
    "# PIPEX"
   ]
  },
  {
   "attachments": {},
   "cell_type": "markdown",
   "metadata": {},
   "source": [
    "## Makefile"
   ]
  },
  {
   "cell_type": "code",
   "execution_count": 267,
   "metadata": {},
   "outputs": [
    {
     "name": "stdout",
     "output_type": "stream",
     "text": [
      "Overwriting ../pipex_working/Makefile\n"
     ]
    }
   ],
   "source": [
    "%%file ../pipex_working/Makefile\n",
    "# **************************************************************************** #\n",
    "#                                                                              #\n",
    "#                                                         :::      ::::::::    #\n",
    "#    Makefile                                           :+:      :+:    :+:    #\n",
    "#                                                     +:+ +:+         +:+      #\n",
    "#    By: dpentlan <dpentlan@student.42.fr>          +#+  +:+       +#+         #\n",
    "#                                                 +#+#+#+#+#+   +#+            #\n",
    "#    Created: 2023/01/30 14:27:11 by dpentlan          #+#    #+#              #\n",
    "#    Updated: 2023/04/29 12:19:40 by dpentlan         ###   ########.fr        #\n",
    "#                                                                              #\n",
    "# **************************************************************************** #\n",
    "\n",
    "NAME = pipex\n",
    "RED='\\033[0;31m'\n",
    "GREEN='\\033[0;32m'\n",
    "NOCOLOR='\\033[0m'\n",
    "\n",
    "# ***** Sources *****\n",
    "\n",
    "SRCS = pipex.c \\\n",
    "\tpipex_utils_1.c \\\n",
    "\tpipex_utils_2.c \\\n",
    "\tpipex_path_utils_1.c \\\n",
    "\tpipex_fork_utils_1.c \\\n",
    "\n",
    "SRCS_DIR = srcs/\n",
    "\n",
    "# ***** Includes *****\n",
    "\n",
    "INCS = pipex.h\n",
    "\n",
    "INCS_DIR = includes/\n",
    "\n",
    "# ***** Objects *****\n",
    "\n",
    "OBJS = $(patsubst %.c,$(OBJS_DIR)%.o,$(SRCS))\n",
    "\n",
    "OBJS_DIR = objs/\n",
    "\n",
    "# ***** Compile and Archiver *****\n",
    "\n",
    "CFLAGS = -Wall -Wextra -Werror -g\n",
    "\n",
    "CC = cc\n",
    "\n",
    "LIBFT = -Llibft -lft\n",
    "\n",
    "# ***** Build *****\n",
    "\n",
    "all: $(NAME)\n",
    "\n",
    "bonus: $(BONUS)\n",
    "\n",
    "$(NAME): $(OBJS) $(OBJS_MAN)\n",
    "\t@echo -e -n ${GREEN}\n",
    "\t@make -C libft --silent\n",
    "\t@echo -e ===== MAKING PIPEX =====\n",
    "\t@echo -e -n ${NOCOLOR}\n",
    "\t@$(CC) $(CFLAGS) $(OBJS) $(LIBFT) -o $(NAME)\n",
    "\n",
    "$(OBJS_DIR)%.o: $(SRCS_DIR)%.c\n",
    "\t@mkdir -p $(OBJS_DIR)\n",
    "\t@$(CC) -c $(CFLAGS) -I$(INCS_DIR) $< -o $@\n",
    "\n",
    "clean:\n",
    "\t@make -C libft clean --silent\n",
    "\t@rm -f $(OBJS)\n",
    "\t@rm -rf $(OBJS_DIR)\n",
    "\n",
    "fclean: clean\n",
    "\t@make -C libft fclean --silent\n",
    "\t@rm -f $(NAME)\n",
    "\t@rm -f gdb.txt\n",
    "\n",
    "re: fclean all\n"
   ]
  },
  {
   "attachments": {},
   "cell_type": "markdown",
   "metadata": {},
   "source": [
    "## HEADERS"
   ]
  },
  {
   "cell_type": "code",
   "execution_count": 299,
   "metadata": {},
   "outputs": [
    {
     "name": "stdout",
     "output_type": "stream",
     "text": [
      "Overwriting ../pipex_working/includes/pipex.h\n"
     ]
    }
   ],
   "source": [
    "%%file ../pipex_working/includes/pipex.h\n",
    "/* ************************************************************************** */\n",
    "/*                                                                            */\n",
    "/*                                                        :::      ::::::::   */\n",
    "/*   pipex.h                                            :+:      :+:    :+:   */\n",
    "/*                                                    +:+ +:+         +:+     */\n",
    "/*   By: dpentlan <dpentlan@student.42.fr>          +#+  +:+       +#+        */\n",
    "/*                                                +#+#+#+#+#+   +#+           */\n",
    "/*   Created: 2023/04/20 12:57:04 by dpentlan          #+#    #+#             */\n",
    "/*   Updated: 2023/04/20 12:57:37 by dpentlan         ###   ########.fr       */\n",
    "/*                                                                            */\n",
    "/* ************************************************************************** */\n",
    "\n",
    "#ifndef PIPEX_H\n",
    "# define PIPEX_H\n",
    "\n",
    "# include \"../libft/includes/libft.h\"\n",
    "# include <unistd.h>\n",
    "# include <sys/wait.h>\n",
    "# include <error.h>\n",
    "\n",
    "typedef struct s_pipex {\n",
    "\tint\t\t\tfds[2];\n",
    "\tpid_t\t\tpid;\n",
    "\tint\t\t\targc;\n",
    "\tchar\t\t**argv;\n",
    "\tchar\t\t**envp;\n",
    "\tchar\t\t*cmd_abspath;\n",
    "\tchar\t\t**cmd_args;\n",
    "\tchar\t\t**path_tab;\n",
    "}\t\t\t\tt_pipex;\n",
    "\n",
    "//\tpipex.c\n",
    "//\tint main (int argc, char **argv, char **envp);\n",
    "\n",
    "//\tpipex_utils_1.c\n",
    "int\t\tpx_error(t_pipex *pipex, char *err_message);\n",
    "int\t\tft_infile(t_pipex *pipex);\n",
    "int\t\tft_outfile(t_pipex *pipex);\n",
    "int\t\tft_px_init(t_pipex *pipex, int argc, char **argv, char **envp);\n",
    "void\tft_free_tab(char **table);\n",
    "\n",
    "//\tpipex_utils_2.c\n",
    "int\t\tpx_exec_args(t_pipex *pipex);\n",
    "void\tpx_close_fds(t_pipex *pipex);\n",
    "\n",
    "//\tpipex_path_utils_1.c\n",
    "void\tpx_path_tab_add_fw_slash(t_pipex *pipex);\n",
    "void\tpx_get_path_tab(t_pipex *pipex);\n",
    "void\tpx_build_abspath(t_pipex *pipex);\n",
    "void\tpx_get_abspath(t_pipex *pipex);\n",
    "void\tpx_get_execargs(t_pipex *pipex, int com_num);\n",
    "\n",
    "//\tpipex_fork_utils_1.c\n",
    "\n",
    "#endif\n"
   ]
  },
  {
   "attachments": {},
   "cell_type": "markdown",
   "metadata": {},
   "source": [
    "## SOURCES"
   ]
  },
  {
   "attachments": {},
   "cell_type": "markdown",
   "metadata": {},
   "source": [
    "### pipex.c"
   ]
  },
  {
   "cell_type": "code",
   "execution_count": 300,
   "metadata": {},
   "outputs": [
    {
     "name": "stdout",
     "output_type": "stream",
     "text": [
      "Overwriting ../pipex_working/srcs/pipex.c\n"
     ]
    }
   ],
   "source": [
    "%%file ../pipex_working/srcs/pipex.c\n",
    "/* ************************************************************************** */\n",
    "/*                                                                            */\n",
    "/*                                                        :::      ::::::::   */\n",
    "/*   pipex.c                                            :+:      :+:    :+:   */\n",
    "/*                                                    +:+ +:+         +:+     */\n",
    "/*   By: dpentlan <dpentlan@student.42.fr>          +#+  +:+       +#+        */\n",
    "/*                                                +#+#+#+#+#+   +#+           */\n",
    "/*   Created: 2023/04/20 12:56:25 by dpentlan          #+#    #+#             */\n",
    "/*   Updated: 2023/04/29 16:03:05 by dpentlan         ###   ########.fr       */\n",
    "/*                                                                            */\n",
    "/* ************************************************************************** */\n",
    "\n",
    "#include \"pipex.h\"\n",
    "\n",
    "int\tmain(int argc, char **argv, char **envp)\n",
    "{\n",
    "\tt_pipex\t*pipex;\n",
    "\tt_pipex\ts_pipex;\n",
    "\n",
    "\tpipex = &s_pipex;\n",
    "\tft_px_init(pipex, argc, argv, envp);\n",
    "\tif (pipe(pipex->fds))\n",
    "\t\tpx_error(pipex, \"pipe\");\n",
    "\tft_infile(pipex);\n",
    "\n",
    "// BIG NOTE TO ME: Access failure should not stop execution of the program, only print a note saying that the file wasnt found.\n",
    "// then execution should continue\n",
    "\n",
    "// fork loop start here //\n",
    "\tpx_exec_args(pipex);\n",
    "\tpipex->pid = fork();\n",
    "\tif (pipex->pid < 0)\n",
    "\t\tpx_error(pipex, \"fork\");\n",
    "\telse if (pipex->pid == 0)\n",
    "\t{\n",
    "\t\tdup2(pipex->fds[1], STDOUT_FILENO);\n",
    "\t\tclose(pipex->fds[0]);\n",
    "\t\tclose(pipex->fds[1]);\n",
    "\t\texecve(pipex->cmd_abspath, pipex->cmd_args, NULL);\n",
    "\t}\n",
    "\twaitpid(pipex->pid, NULL, 0);\n",
    "\tif (pipex->cmd_args)\n",
    "\t{\n",
    "\t\tft_free_tab(pipex->cmd_args);\n",
    "\t\tpipex->cmd_args = 0;\n",
    "\t}\n",
    "\tif (pipex->cmd_abspath)\n",
    "\t{\n",
    "\t\tfree(pipex->cmd_abspath);\n",
    "\t\tpipex->cmd_abspath = 0;\n",
    "\t}\n",
    "// fork loop end here //\n",
    "\n",
    "\tft_outfile(pipex);\n",
    "\n",
    "\tpx_exec_args(pipex);\n",
    "\tpipex->pid = fork();\n",
    "\tif (pipex->pid < 0)\n",
    "\t\tpx_error(pipex, \"fork\");\n",
    "\tif (pipex->pid == 0)\n",
    "\t{\n",
    "\t\tdup2(pipex->fds[0], STDIN_FILENO);\n",
    "\t\tclose(pipex->fds[0]);\n",
    "\t\tclose(pipex->fds[1]);\n",
    "\t\texecve(pipex->cmd_abspath, pipex->cmd_args, NULL);\n",
    "\t}\n",
    "\tclose(pipex->fds[1]);\n",
    "\twaitpid(pipex->pid, NULL, 0);\n",
    "\tif (pipex->cmd_args)\n",
    "\t{\n",
    "\t\tft_free_tab(pipex->cmd_args);\n",
    "\t\tpipex->cmd_args = 0;\n",
    "\t}\n",
    "\tif (pipex->cmd_abspath)\n",
    "\t{\n",
    "\t\tfree(pipex->cmd_abspath);\n",
    "\t\tpipex->cmd_abspath = 0;\n",
    "\t}\n",
    "\n",
    "\tif (pipex->path_tab)\n",
    "\t{\n",
    "\t\tft_free_tab(pipex->path_tab);\n",
    "\t\tpipex->path_tab = 0;\n",
    "\t}\n",
    "\tpx_close_fds(pipex);\n",
    "\treturn (0);\n",
    "}\n"
   ]
  },
  {
   "attachments": {},
   "cell_type": "markdown",
   "metadata": {},
   "source": [
    "### pipex_utils_1.c"
   ]
  },
  {
   "cell_type": "code",
   "execution_count": 301,
   "metadata": {},
   "outputs": [
    {
     "name": "stdout",
     "output_type": "stream",
     "text": [
      "Overwriting ../pipex_working/srcs/pipex_utils_1.c\n"
     ]
    }
   ],
   "source": [
    "%%file ../pipex_working/srcs/pipex_utils_1.c\n",
    "/* ************************************************************************** */\n",
    "/*                                                                            */\n",
    "/*                                                        :::      ::::::::   */\n",
    "/*   pipex_utils_1.c                                    :+:      :+:    :+:   */\n",
    "/*                                                    +:+ +:+         +:+     */\n",
    "/*   By: dpentlan <dpentlan@student.42.fr>          +#+  +:+       +#+        */\n",
    "/*                                                +#+#+#+#+#+   +#+           */\n",
    "/*   Created: 2023/04/29 17:20:54 by dpentlan          #+#    #+#             */\n",
    "/*   Updated: 2023/05/09 15:31:54 by dpentlan         ###   ########.fr       */\n",
    "/*                                                                            */\n",
    "/* ************************************************************************** */\n",
    "\n",
    "#include \"pipex.h\"\n",
    "\n",
    "int\tpx_error(t_pipex *pipex, char *err_message)\n",
    "{\n",
    "\tif (ft_strnstr(err_message, \"args\", 4))\n",
    "\t\tft_putstr_fd(\"Usage: pipex [infile] ['command'] ... [outfile]\\n\", 1);\n",
    "\telse if (ft_strnstr(err_message, \"no_path\", 7))\n",
    "\t\tft_putstr_fd(\"path: No valid path found in envp\\n\", 1);\n",
    "\telse\n",
    "\t\tperror(err_message);\n",
    "\tif (pipex->cmd_abspath)\n",
    "\t\tfree(pipex->cmd_abspath);\n",
    "\tif (pipex->cmd_args)\n",
    "\t\tft_free_tab(pipex->cmd_args);\n",
    "\tif (pipex->path_tab)\n",
    "\t\tft_free_tab(pipex->path_tab);\n",
    "\tpx_close_fds(pipex);\n",
    "\texit(EXIT_FAILURE);\n",
    "}\n",
    "\n",
    "int\tft_infile(t_pipex *pipex)\n",
    "{\n",
    "\tint\t\tin_file;\n",
    "\n",
    "\tin_file = 0;\n",
    "\tif (access(pipex->argv[1], F_OK | R_OK))\n",
    "\t\tpx_error(pipex, \"access\");\n",
    "\tin_file = open(pipex->argv[1], O_RDONLY);\n",
    "\tif (in_file < 0)\n",
    "\t\tpx_error(pipex, \"open\");\n",
    "\tdup2(in_file, STDIN_FILENO);\n",
    "\tclose(in_file);\n",
    "\treturn (0);\n",
    "}\n",
    "\n",
    "int\tft_outfile(t_pipex *pipex)\n",
    "{\n",
    "\tint\t\tout_file;\n",
    "\tchar\t*fn;\n",
    "\n",
    "\tout_file = 0;\n",
    "\tfn = pipex->argv[pipex->argc - 1];\n",
    "\tout_file = open(fn, O_CREAT | O_WRONLY | O_TRUNC, 0666);\n",
    "\tif (out_file < 0)\n",
    "\t\tpx_error(pipex, \"open\");\n",
    "\tdup2(out_file, STDOUT_FILENO);\n",
    "\tclose(out_file);\n",
    "\treturn (0);\n",
    "}\n",
    "\n",
    "int\tft_px_init(t_pipex *pipex, int argc, char **argv, char **envp)\n",
    "{\n",
    "\tif (argc < 5)\n",
    "\t\tpx_error(pipex, \"args\");\n",
    "\tpipex->argc = argc;\n",
    "\tpipex->argv = argv;\n",
    "\tpipex->envp = envp;\n",
    "\tpipex->cmd_abspath = 0;\n",
    "\tpipex->cmd_args = 0;\n",
    "\tpipex->path_tab = 0;\n",
    "\treturn (0);\n",
    "}\n",
    "\n",
    "void\tft_free_tab(char **table)\n",
    "{\n",
    "\tint\ti;\n",
    "\n",
    "\ti = 0;\n",
    "\twhile (table[i])\n",
    "\t{\n",
    "\t\tfree(table[i]);\n",
    "\t\ti++;\n",
    "\t}\n",
    "\tfree(table);\n",
    "\treturn ;\n",
    "}\n"
   ]
  },
  {
   "attachments": {},
   "cell_type": "markdown",
   "metadata": {},
   "source": [
    "### pipex_utils_2.c"
   ]
  },
  {
   "cell_type": "code",
   "execution_count": 291,
   "metadata": {},
   "outputs": [
    {
     "name": "stdout",
     "output_type": "stream",
     "text": [
      "Overwriting ../pipex_working/srcs/pipex_utils_2.c\n"
     ]
    }
   ],
   "source": [
    "%%file ../pipex_working/srcs/pipex_utils_2.c\n",
    "/* ************************************************************************** */\n",
    "/*                                                                            */\n",
    "/*                                                        :::      ::::::::   */\n",
    "/*   pipex_utils_2.c                                    :+:      :+:    :+:   */\n",
    "/*                                                    +:+ +:+         +:+     */\n",
    "/*   By: dpentlan <dpentlan@student.42.fr>          +#+  +:+       +#+        */\n",
    "/*                                                +#+#+#+#+#+   +#+           */\n",
    "/*   Created: 2023/05/12 18:57:46 by dpentlan          #+#    #+#             */\n",
    "/*   Updated: 2023/05/12 18:57:59 by dpentlan         ###   ########.fr       */\n",
    "/*                                                                            */\n",
    "/* ************************************************************************** */\n",
    "\n",
    "#include \"pipex.h\"\n",
    "\n",
    "int\tpx_exec_args(t_pipex *pipex)\n",
    "{\n",
    "\tstatic int\tcom_num;\n",
    "\n",
    "\tif (com_num == 0)\n",
    "\t\tcom_num = 2;\n",
    "\telse\n",
    "\t\tcom_num++;\n",
    "\tpx_get_execargs(pipex, com_num);\n",
    "\tpx_get_abspath(pipex);\n",
    "\treturn (0);\n",
    "}\n",
    "\n",
    "void\tpx_close_fds(t_pipex *pipex)\n",
    "{\n",
    "\tclose(STDIN_FILENO);\n",
    "\tclose(STDOUT_FILENO);\n",
    "\tclose(STDERR_FILENO);\n",
    "\tclose(pipex->fds[0]);\n",
    "\tclose(pipex->fds[1]);\n",
    "}\n"
   ]
  },
  {
   "attachments": {},
   "cell_type": "markdown",
   "metadata": {},
   "source": [
    "### pipex_path_utils_1.c"
   ]
  },
  {
   "cell_type": "code",
   "execution_count": 296,
   "metadata": {},
   "outputs": [
    {
     "name": "stdout",
     "output_type": "stream",
     "text": [
      "Overwriting ../pipex_working/srcs/pipex_path_utils_1.c\n"
     ]
    }
   ],
   "source": [
    "%%file ../pipex_working/srcs/pipex_path_utils_1.c\n",
    "/* ************************************************************************** */\n",
    "/*                                                                            */\n",
    "/*                                                        :::      ::::::::   */\n",
    "/*   pipex_path_utils_1.c                               :+:      :+:    :+:   */\n",
    "/*                                                    +:+ +:+         +:+     */\n",
    "/*   By: dpentlan <dpentlan@student.42.fr>          +#+  +:+       +#+        */\n",
    "/*                                                +#+#+#+#+#+   +#+           */\n",
    "/*   Created: 2023/05/12 18:58:17 by dpentlan          #+#    #+#             */\n",
    "/*   Updated: 2023/05/12 18:58:25 by dpentlan         ###   ########.fr       */\n",
    "/*                                                                            */\n",
    "/* ************************************************************************** */\n",
    "\n",
    "#include \"pipex.h\"\n",
    "\n",
    "void\tpx_path_tab_add_fw_slash(t_pipex *pipex)\n",
    "{\n",
    "\tint\t\ti;\n",
    "\tchar\t*buf;\n",
    "\n",
    "\ti = 0;\n",
    "\tbuf = 0;\n",
    "\twhile (pipex->path_tab[i])\n",
    "\t{\n",
    "\t\tif (pipex->path_tab[i][ft_strlen(pipex->path_tab[i]) - 1] != '/')\n",
    "\t\t{\n",
    "\t\t\tbuf = ft_strjoin(pipex->path_tab[i], \"/\");\n",
    "\t\t\tfree(pipex->path_tab[i]);\n",
    "\t\t\tpipex->path_tab[i] = buf;\n",
    "\t\t\tif (!pipex->path_tab[i])\n",
    "\t\t\t\tpx_error(pipex, \"malloc\");\n",
    "\t\t}\n",
    "\t\ti++;\n",
    "\t}\n",
    "}\n",
    "\n",
    "void\tpx_get_path_tab(t_pipex *pipex)\n",
    "{\n",
    "\tchar\t*path;\n",
    "\tchar\t**env_elem;\n",
    "\n",
    "\tpath = 0;\n",
    "\tenv_elem = pipex->envp;\n",
    "\twhile (*env_elem)\n",
    "\t{\n",
    "\t\tpath = ft_strnstr(*env_elem, \"PATH=\", 5);\n",
    "\t\tif (path)\n",
    "\t\t\tbreak ;\n",
    "\t\tenv_elem++;\n",
    "\t}\n",
    "\tif (!*env_elem)\n",
    "\t\tpx_error(pipex, \"no_path\");\n",
    "\tpipex->path_tab = ft_split(path + 5, ':');\n",
    "\tif (!pipex->path_tab)\n",
    "\t\tpx_error(pipex, \"malloc\");\n",
    "\tpx_path_tab_add_fw_slash(pipex);\n",
    "}\n",
    "\n",
    "void\tpx_build_abspath(t_pipex *pipex)\n",
    "{\n",
    "\tint\ti;\n",
    "\n",
    "\ti = 0;\n",
    "\twhile (pipex->path_tab[i])\n",
    "\t{\n",
    "\t\tif (pipex->cmd_abspath)\n",
    "\t\t\tfree(pipex->cmd_abspath);\n",
    "\t\tpipex->cmd_abspath = ft_strjoin(pipex->path_tab[i], pipex->cmd_args[0]);\n",
    "\t\tif (!pipex->cmd_abspath)\n",
    "\t\t\tpx_error(pipex, \"malloc\");\n",
    "\t\tif (!access(pipex->cmd_abspath, F_OK | X_OK))\n",
    "\t\t\tbreak ;\n",
    "\t\ti++;\n",
    "\t}\n",
    "}\n",
    "\n",
    "void\tpx_get_abspath(t_pipex *pipex)\n",
    "{\n",
    "\tif (pipex->cmd_args[0][0] == '/')\n",
    "\t{\n",
    "\t\tpipex->cmd_abspath = ft_strdup(pipex->cmd_args[0]);\n",
    "\t\tif (!pipex->cmd_abspath)\n",
    "\t\t\tpx_error(pipex, \"malloc\");\n",
    "\t}\n",
    "\telse\n",
    "\t{\n",
    "\t\tif (!pipex->path_tab)\n",
    "\t\t\tpx_get_path_tab(pipex);\n",
    "\t\tpx_build_abspath(pipex);\n",
    "\t}\n",
    "\tif (access(pipex->cmd_abspath, F_OK | X_OK))\n",
    "\t\tpx_error(pipex, \"access\");\n",
    "}\n",
    "\n",
    "void\tpx_get_execargs(t_pipex *pipex, int com_num)\n",
    "{\n",
    "\tpipex->cmd_args = ft_split(pipex->argv[com_num], ' ');\n",
    "\tif (!pipex->cmd_args)\n",
    "\t\tpx_error(pipex, \"malloc\");\n",
    "}\n"
   ]
  },
  {
   "attachments": {},
   "cell_type": "markdown",
   "metadata": {},
   "source": [
    "### pipex_fork_utils_1.c"
   ]
  },
  {
   "cell_type": "code",
   "execution_count": 293,
   "metadata": {},
   "outputs": [
    {
     "name": "stdout",
     "output_type": "stream",
     "text": [
      "Overwriting ../pipex_working/srcs/pipex_fork_utils_1.c\n"
     ]
    }
   ],
   "source": [
    "%%file ../pipex_working/srcs/pipex_fork_utils_1.c\n",
    "/* ************************************************************************** */\n",
    "/*                                                                            */\n",
    "/*                                                        :::      ::::::::   */\n",
    "/*   pipex_fork_utils_1.c                               :+:      :+:    :+:   */\n",
    "/*                                                    +:+ +:+         +:+     */\n",
    "/*   By: dpentlan <dpentlan@student.42.fr>          +#+  +:+       +#+        */\n",
    "/*                                                +#+#+#+#+#+   +#+           */\n",
    "/*   Created: 2023/05/12 18:58:31 by dpentlan          #+#    #+#             */\n",
    "/*   Updated: 2023/05/12 18:58:40 by dpentlan         ###   ########.fr       */\n",
    "/*                                                                            */\n",
    "/* ************************************************************************** */\n",
    "\n",
    "#include \"pipex.h\"\n"
   ]
  },
  {
   "attachments": {},
   "cell_type": "markdown",
   "metadata": {},
   "source": [
    "## TESTING"
   ]
  },
  {
   "attachments": {},
   "cell_type": "markdown",
   "metadata": {},
   "source": [
    "### Test Build"
   ]
  },
  {
   "cell_type": "code",
   "execution_count": 2,
   "metadata": {},
   "outputs": [
    {
     "name": "stdout",
     "output_type": "stream",
     "text": [
      "\u001b[0;32m===== MAKING LIBFT =====\n",
      "===== MAKING PIPEX =====\n",
      "\u001b[0m"
     ]
    }
   ],
   "source": [
    "%%bash\n",
    "cd ../pipex_working\n",
    "make re"
   ]
  },
  {
   "cell_type": "code",
   "execution_count": 34,
   "metadata": {},
   "outputs": [
    {
     "name": "stdout",
     "output_type": "stream",
     "text": [
      "access@GLIBC_2.2.5\n",
      "close@GLIBC_2.2.5\n",
      "dup2@GLIBC_2.2.5\n",
      "execve@GLIBC_2.2.5\n",
      "fork@GLIBC_2.2.5\n",
      "free@GLIBC_2.2.5\n",
      "malloc@GLIBC_2.2.5\n",
      "pipe@GLIBC_2.2.5\n",
      "waitpid@GLIBC_2.2.5\n",
      "write@GLIBC_2.2.5\n"
     ]
    }
   ],
   "source": [
    "%%bash\n",
    "cd ../pipex_working\n",
    "make re > /dev/null\n",
    "./pipex > /dev/null\n",
    "nm -Duj pipex | grep -v \"^_\"\n",
    "make fclean"
   ]
  },
  {
   "cell_type": "code",
   "execution_count": 2,
   "metadata": {},
   "outputs": [
    {
     "name": "stderr",
     "output_type": "stream",
     "text": [
      "==86224== Memcheck, a memory error detector\n",
      "==86224== Copyright (C) 2002-2017, and GNU GPL'd, by Julian Seward et al.\n",
      "==86224== Using Valgrind-3.18.1 and LibVEX; rerun with -h for copyright info\n",
      "==86224== Command: cat\n",
      "==86224== \n",
      "==86224== \n",
      "==86224== FILE DESCRIPTORS: 0 open (0 std) at exit.\n",
      "==86224== \n",
      "==86224== HEAP SUMMARY:\n",
      "==86224==     in use at exit: 0 bytes in 0 blocks\n",
      "==86224==   total heap usage: 1,051 allocs, 1,051 frees, 205,320 bytes allocated\n",
      "==86224== \n",
      "==86224== All heap blocks were freed -- no leaks are possible\n",
      "==86224== \n",
      "==86224== For lists of detected and suppressed errors, rerun with: -s\n",
      "==86224== ERROR SUMMARY: 0 errors from 0 contexts (suppressed: 0 from 0)\n"
     ]
    }
   ],
   "source": [
    "%%bash\n",
    "# use valgrind with --track-fds=all to see if fds are closing appropriately\n",
    "valgrind --track-fds=all < file1 cat | wc > file2"
   ]
  },
  {
   "attachments": {},
   "cell_type": "markdown",
   "metadata": {},
   "source": [
    "### argument testing"
   ]
  },
  {
   "cell_type": "code",
   "execution_count": 261,
   "metadata": {},
   "outputs": [
    {
     "name": "stdout",
     "output_type": "stream",
     "text": [
      "Good Valgrind Runs: Memory: 21\n",
      "Good Valgrind Runs: fds   : 21\n"
     ]
    }
   ],
   "source": [
    "%%bash\n",
    "WORKING=\"../pipex_working/\"\n",
    "TESTING=\"../pipex_testing/\"\n",
    "cd $WORKING\n",
    "rm -f valgrind.log\n",
    "rm -f ${TESTING}valgrind.log\n",
    "# test 4 commands that exist\n",
    "rm -f file8 && valgrind --track-fds=all --leak-check=full ./pipex file1 \"cat -e\" \"/usr/bin/wc -l\" file8 &>> valgrind.log && cat file8 &>> valgrind.log\n",
    "rm -f file8 && valgrind --track-fds=all --leak-check=full ./pipex file1 cat \"/usr/bin/wc -l\" file8 &>> valgrind.log && cat file8 &>> valgrind.log\n",
    "rm -f file8 && valgrind --track-fds=all --leak-check=full ./pipex file1 \"cat -e\" wc file8 &>> valgrind.log && cat file8 &>> valgrind.log\n",
    "rm -f file8 && valgrind --track-fds=all --leak-check=full ./pipex file1 cat wc file8 &>> valgrind.log && cat file8 &>> valgrind.log\n",
    "# test 16 commands that DONT exist\n",
    "rm -f file8 && valgrind --track-fds=all --leak-check=full ./pipex file1 \"cat -e\" \"/usr/bin/wc -l\" file8 &>> valgrind.log && cat file8 &>> valgrind.log\n",
    "rm -f file8 && valgrind --track-fds=all --leak-check=full ./pipex file1 \"catlkj -e\" \"/usr/bin/wc -l\" file8 &>> valgrind.log && cat file8 &>> valgrind.log\n",
    "rm -f file8 && valgrind --track-fds=all --leak-check=full ./pipex file1 \"cat -e\" \"/usr/bin/wclkj -l\" file8 &>> valgrind.log && cat file8 &>> valgrind.log\n",
    "rm -f file8 && valgrind --track-fds=all --leak-check=full ./pipex file1 \"catlkj -e\" \"/usr/bin/wclkj -l\" file8 &>> valgrind.log && cat file8 &>> valgrind.log\n",
    "rm -f file8 && valgrind --track-fds=all --leak-check=full ./pipex file1 cat \"/usr/bin/wc -l\" file8 &>> valgrind.log && cat file8 &>> valgrind.log\n",
    "rm -f file8 && valgrind --track-fds=all --leak-check=full ./pipex file1 catlkj \"/usr/bin/wc -l\" file8 &>> valgrind.log && cat file8 &>> valgrind.log\n",
    "rm -f file8 && valgrind --track-fds=all --leak-check=full ./pipex file1 cat \"/usr/bin/wclkj -l\" file8 &>> valgrind.log && cat file8 &>> valgrind.log\n",
    "rm -f file8 && valgrind --track-fds=all --leak-check=full ./pipex file1 catlkj \"/usr/bin/wclkj -l\" file8 &>> valgrind.log && cat file8 &>> valgrind.log\n",
    "rm -f file8 && valgrind --track-fds=all --leak-check=full ./pipex file1 \"cat -e\" wc file8 &>> valgrind.log && cat file8 &>> valgrind.log\n",
    "rm -f file8 && valgrind --track-fds=all --leak-check=full ./pipex file1 \"catlkj -e\" wc file8 &>> valgrind.log && cat file8 &>> valgrind.log\n",
    "rm -f file8 && valgrind --track-fds=all --leak-check=full ./pipex file1 \"cat -e\" wclkj file8 &>> valgrind.log && cat file8 &>> valgrind.log\n",
    "rm -f file8 && valgrind --track-fds=all --leak-check=full ./pipex file1 \"catlkj -e\" wclkj file8 &>> valgrind.log && cat file8 &>> valgrind.log\n",
    "rm -f file8 && valgrind --track-fds=all --leak-check=full ./pipex file1 cat wc file8 &>> valgrind.log && cat file8 &>> valgrind.log\n",
    "rm -f file8 && valgrind --track-fds=all --leak-check=full ./pipex file1 catlkj wc file8 &>> valgrind.log && cat file8 &>> valgrind.log\n",
    "rm -f file8 && valgrind --track-fds=all --leak-check=full ./pipex file1 cat wclkj file8 &>> valgrind.log && cat file8 &>> valgrind.log\n",
    "rm -f file8 && valgrind --track-fds=all --leak-check=full ./pipex file1 catlkj wclkj file8 &>> valgrind.log && cat file8 &>> valgrind.log\n",
    "# test 1 valid commands but file does not exist\n",
    "rm -f file8 && valgrind --track-fds=all --leak-check=full ./pipex file1lksjdlkfj \"cat -e\" \"/usr/bin/wc -l\" file8 &>> valgrind.log && cat file8 &>> valgrind.log\n",
    "\n",
    "echo -n \"Good Valgrind Runs: Memory: \" && cat valgrind.log | grep \"All heap blocks were freed\" | wc -l\n",
    "echo -n \"Good Valgrind Runs: fds   : \" && cat valgrind.log | grep \"FILE DESCRIPTORS: 0 open (0 std) at exit\" | wc -l\n",
    "mv valgrind.log ../pipex_testing"
   ]
  }
 ],
 "metadata": {
  "kernelspec": {
   "display_name": "base",
   "language": "python",
   "name": "python3"
  },
  "language_info": {
   "codemirror_mode": {
    "name": "ipython",
    "version": 3
   },
   "file_extension": ".py",
   "mimetype": "text/x-python",
   "name": "python",
   "nbconvert_exporter": "python",
   "pygments_lexer": "ipython3",
   "version": "3.9.13"
  },
  "orig_nbformat": 4
 },
 "nbformat": 4,
 "nbformat_minor": 2
}
